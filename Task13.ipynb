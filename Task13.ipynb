{
  "nbformat": 4,
  "nbformat_minor": 0,
  "metadata": {
    "colab": {
      "provenance": [],
      "authorship_tag": "ABX9TyNRMELdMEbWtLRDRFuysZ9l",
      "include_colab_link": true
    },
    "kernelspec": {
      "name": "python3",
      "display_name": "Python 3"
    },
    "language_info": {
      "name": "python"
    }
  },
  "cells": [
    {
      "cell_type": "markdown",
      "metadata": {
        "id": "view-in-github",
        "colab_type": "text"
      },
      "source": [
        "<a href=\"https://colab.research.google.com/github/MunazaAshraf/Deep-Learning-BWF/blob/main/Task13.ipynb\" target=\"_parent\"><img src=\"https://colab.research.google.com/assets/colab-badge.svg\" alt=\"Open In Colab\"/></a>"
      ]
    },
    {
      "cell_type": "markdown",
      "source": [
        "**Pandas Series**"
      ],
      "metadata": {
        "id": "qMjul4wDY7XQ"
      }
    },
    {
      "cell_type": "markdown",
      "source": [
        "A Series is a one-dimensional labelled array object similar to a list or a column in a table. It can hold any data type."
      ],
      "metadata": {
        "id": "m9WZSXPVY5DM"
      }
    },
    {
      "cell_type": "code",
      "execution_count": 1,
      "metadata": {
        "id": "g4oNiRDrYesX"
      },
      "outputs": [],
      "source": [
        "import pandas as pd"
      ]
    },
    {
      "cell_type": "code",
      "source": [
        "# Creating a list\n",
        "author = ['Jitender', 'Purnima','Arpit', 'Jyoti']"
      ],
      "metadata": {
        "id": "9oAngwd5ZbEj"
      },
      "execution_count": 2,
      "outputs": []
    },
    {
      "cell_type": "code",
      "source": [
        "# Creating a Series by passing list\n",
        "# variable to Series() function\n",
        "auth_series = pd.Series(author)"
      ],
      "metadata": {
        "id": "k1mT4NAzZsEX"
      },
      "execution_count": 3,
      "outputs": []
    },
    {
      "cell_type": "code",
      "source": [
        "# Printing Series\n",
        "print(auth_series)"
      ],
      "metadata": {
        "colab": {
          "base_uri": "https://localhost:8080/"
        },
        "id": "7GGoc4pvZv5G",
        "outputId": "d42766eb-3301-4a59-dbdc-f31085d7b491"
      },
      "execution_count": 4,
      "outputs": [
        {
          "output_type": "stream",
          "name": "stdout",
          "text": [
            "0    Jitender\n",
            "1     Purnima\n",
            "2       Arpit\n",
            "3       Jyoti\n",
            "dtype: object\n"
          ]
        }
      ]
    },
    {
      "cell_type": "code",
      "source": [
        "# checking type of series\n",
        "print(type(auth_series))"
      ],
      "metadata": {
        "colab": {
          "base_uri": "https://localhost:8080/"
        },
        "id": "NKqgWD6YZzdI",
        "outputId": "9efed070-2f92-4e4d-f675-c75b20a699c9"
      },
      "execution_count": 5,
      "outputs": [
        {
          "output_type": "stream",
          "name": "stdout",
          "text": [
            "<class 'pandas.core.series.Series'>\n"
          ]
        }
      ]
    },
    {
      "cell_type": "markdown",
      "source": [
        "*Create DataFrame From Multiple Series*"
      ],
      "metadata": {
        "id": "PmnAbSS9aKGc"
      }
    },
    {
      "cell_type": "code",
      "source": [
        "article = [210, 211, 114, 178]"
      ],
      "metadata": {
        "id": "UuNbtZzlaF84"
      },
      "execution_count": 6,
      "outputs": []
    },
    {
      "cell_type": "code",
      "source": [
        "article_series = pd.Series(article)"
      ],
      "metadata": {
        "id": "lmJstMBBaTCi"
      },
      "execution_count": 8,
      "outputs": []
    },
    {
      "cell_type": "code",
      "source": [
        "# Creating a dictionary by passing Series objects as values\n",
        "frame = {'Author': auth_series, 'Article': article_series}"
      ],
      "metadata": {
        "id": "B5zJyWBwaWxL"
      },
      "execution_count": 9,
      "outputs": []
    },
    {
      "cell_type": "code",
      "source": [
        "# Creating DataFrame by passing Dictionary\n",
        "result = pd.DataFrame(frame)"
      ],
      "metadata": {
        "id": "e2r9LVEtag1F"
      },
      "execution_count": 10,
      "outputs": []
    },
    {
      "cell_type": "code",
      "source": [
        "# Printing elements of Dataframe\n",
        "print(result)"
      ],
      "metadata": {
        "colab": {
          "base_uri": "https://localhost:8080/"
        },
        "id": "1nSg2pDvalSD",
        "outputId": "4a26f799-e950-45af-e5ad-c11184e5f578"
      },
      "execution_count": 11,
      "outputs": [
        {
          "output_type": "stream",
          "name": "stdout",
          "text": [
            "     Author  Article\n",
            "0  Jitender      210\n",
            "1   Purnima      211\n",
            "2     Arpit      114\n",
            "3     Jyoti      178\n"
          ]
        }
      ]
    },
    {
      "cell_type": "markdown",
      "source": [
        "*Add a Column in Pandas Dataframe*"
      ],
      "metadata": {
        "id": "nd6FjB6haq6f"
      }
    },
    {
      "cell_type": "code",
      "source": [
        "# Creating another list\n",
        "age = [21, 21, 24, 23]"
      ],
      "metadata": {
        "id": "p-NfuO0NaoKY"
      },
      "execution_count": 12,
      "outputs": []
    },
    {
      "cell_type": "code",
      "source": [
        "# Creating new column in the dataframe by\n",
        "# providing s Series created using list\n",
        "result['Age'] = pd.Series(age)"
      ],
      "metadata": {
        "id": "tFaYbVWza3AZ"
      },
      "execution_count": 13,
      "outputs": []
    },
    {
      "cell_type": "code",
      "source": [
        "# Printing dataframe\n",
        "print(result)"
      ],
      "metadata": {
        "colab": {
          "base_uri": "https://localhost:8080/"
        },
        "id": "eHuChsNCa8b_",
        "outputId": "b61290bc-8608-4995-ed4d-fbc86d574fbd"
      },
      "execution_count": 14,
      "outputs": [
        {
          "output_type": "stream",
          "name": "stdout",
          "text": [
            "     Author  Article  Age\n",
            "0  Jitender      210   21\n",
            "1   Purnima      211   21\n",
            "2     Arpit      114   24\n",
            "3     Jyoti      178   23\n"
          ]
        }
      ]
    },
    {
      "cell_type": "markdown",
      "source": [
        "*Missing value in Pandas Dataframe*"
      ],
      "metadata": {
        "id": "XRo9byY2bCcy"
      }
    },
    {
      "cell_type": "code",
      "source": [
        "label = ['yes','yes','no']"
      ],
      "metadata": {
        "id": "bKGrUcsTa_Vd"
      },
      "execution_count": 15,
      "outputs": []
    },
    {
      "cell_type": "code",
      "source": [
        "result['Label'] = pd.Series(label)"
      ],
      "metadata": {
        "id": "NCRiSoH5bcY8"
      },
      "execution_count": 16,
      "outputs": []
    },
    {
      "cell_type": "code",
      "source": [
        "print(result)"
      ],
      "metadata": {
        "colab": {
          "base_uri": "https://localhost:8080/"
        },
        "id": "YxKGMPy3bhiC",
        "outputId": "ce53d90f-cb46-4ea7-dc68-238636e52730"
      },
      "execution_count": 17,
      "outputs": [
        {
          "output_type": "stream",
          "name": "stdout",
          "text": [
            "     Author  Article  Age Label\n",
            "0  Jitender      210   21   yes\n",
            "1   Purnima      211   21   yes\n",
            "2     Arpit      114   24    no\n",
            "3     Jyoti      178   23   NaN\n"
          ]
        }
      ]
    },
    {
      "cell_type": "markdown",
      "source": [
        "*Creating a Dataframe using a dictionary of Series*"
      ],
      "metadata": {
        "id": "PL8SZHfIbngX"
      }
    },
    {
      "cell_type": "code",
      "source": [
        "dict1 = {'Auth_Name': pd.Series(['Jitender',\n",
        "                  'Purnima', 'Arpit', 'Jyoti']),\n",
        "         'Author_Book_No':\\\n",
        "                 pd.Series([210, 211, 114, 178]),\n",
        "         'Age': pd.Series([21, 21, 24, 23])}"
      ],
      "metadata": {
        "id": "I8pqe1CIblby"
      },
      "execution_count": 18,
      "outputs": []
    },
    {
      "cell_type": "code",
      "source": [
        "# Creating Dataframe\n",
        "df = pd.DataFrame(dict1)"
      ],
      "metadata": {
        "id": "tCPFNiYObto_"
      },
      "execution_count": 19,
      "outputs": []
    },
    {
      "cell_type": "code",
      "source": [
        "# Printing dataframe\n",
        "print(df)"
      ],
      "metadata": {
        "colab": {
          "base_uri": "https://localhost:8080/"
        },
        "id": "ipC3MckubxJy",
        "outputId": "7f149089-5d16-4e30-ce90-5a53f9f04de0"
      },
      "execution_count": 20,
      "outputs": [
        {
          "output_type": "stream",
          "name": "stdout",
          "text": [
            "  Auth_Name  Author_Book_No  Age\n",
            "0  Jitender             210   21\n",
            "1   Purnima             211   21\n",
            "2     Arpit             114   24\n",
            "3     Jyoti             178   23\n"
          ]
        }
      ]
    },
    {
      "cell_type": "code",
      "source": [
        "age_series = pd.Series(age)"
      ],
      "metadata": {
        "id": "E7hr9eFNcIwW"
      },
      "execution_count": 21,
      "outputs": []
    },
    {
      "cell_type": "code",
      "source": [
        "dict2 = {'Auth_Name': auth_series,\n",
        "         'Article':\\\n",
        "                 article_series,\n",
        "         'Age': age_series}"
      ],
      "metadata": {
        "id": "TbDb6HLGb0W5"
      },
      "execution_count": 30,
      "outputs": []
    },
    {
      "cell_type": "code",
      "source": [
        "df1 = pd.DataFrame(dict2)"
      ],
      "metadata": {
        "id": "hsTgQVCWcVF6"
      },
      "execution_count": 23,
      "outputs": []
    },
    {
      "cell_type": "code",
      "source": [
        "print(df1)"
      ],
      "metadata": {
        "colab": {
          "base_uri": "https://localhost:8080/"
        },
        "id": "ObfZPxElcZ09",
        "outputId": "a5b3065e-054a-4dd5-e82e-9a9bc37e0758"
      },
      "execution_count": 24,
      "outputs": [
        {
          "output_type": "stream",
          "name": "stdout",
          "text": [
            "  Auth_Name  Article  Age\n",
            "0  Jitender      210   21\n",
            "1   Purnima      211   21\n",
            "2     Arpit      114   24\n",
            "3     Jyoti      178   23\n"
          ]
        }
      ]
    },
    {
      "cell_type": "code",
      "source": [
        "label_series = pd.Series(label)"
      ],
      "metadata": {
        "id": "2TssNQs-cxcj"
      },
      "execution_count": 25,
      "outputs": []
    },
    {
      "cell_type": "code",
      "source": [
        "dict3 = {'Auth_Name': auth_series,\n",
        "         'Article':\\\n",
        "                 article_series,\n",
        "         'Age':\\\n",
        "         age_series,\n",
        "         'Label':\n",
        "         label_series}"
      ],
      "metadata": {
        "id": "aa-afvDdciyx"
      },
      "execution_count": 27,
      "outputs": []
    },
    {
      "cell_type": "code",
      "source": [
        "df2 = pd.DataFrame(dict3)\n",
        "print(df2)"
      ],
      "metadata": {
        "colab": {
          "base_uri": "https://localhost:8080/"
        },
        "id": "3l1YbgqLc9YY",
        "outputId": "e132cdab-4c29-46fc-a3c6-f488e52ab09a"
      },
      "execution_count": 28,
      "outputs": [
        {
          "output_type": "stream",
          "name": "stdout",
          "text": [
            "  Auth_Name  Article  Age Label\n",
            "0  Jitender      210   21   yes\n",
            "1   Purnima      211   21   yes\n",
            "2     Arpit      114   24    no\n",
            "3     Jyoti      178   23   NaN\n"
          ]
        }
      ]
    },
    {
      "cell_type": "markdown",
      "source": [
        "*Explicit Indexing in Pandas Dataframe*"
      ],
      "metadata": {
        "id": "8mu5vqlBdDIP"
      }
    },
    {
      "cell_type": "code",
      "source": [
        "fd = pd.DataFrame(dict1, index=['SNo1', 'SNo2', 'SNo3', 'SNo4'])\n",
        "print(fd)"
      ],
      "metadata": {
        "colab": {
          "base_uri": "https://localhost:8080/"
        },
        "id": "38oQkf27dBTJ",
        "outputId": "4d9b9431-e752-4303-94d7-e1c6768782ed"
      },
      "execution_count": 29,
      "outputs": [
        {
          "output_type": "stream",
          "name": "stdout",
          "text": [
            "     Auth_Name  Author_Book_No  Age\n",
            "SNo1       NaN             NaN  NaN\n",
            "SNo2       NaN             NaN  NaN\n",
            "SNo3       NaN             NaN  NaN\n",
            "SNo4       NaN             NaN  NaN\n"
          ]
        }
      ]
    },
    {
      "cell_type": "code",
      "source": [
        "fd1 = pd.DataFrame(dict2, index=['SNo1', 'SNo2', 'SNo3', 'SNo4'])\n",
        "print(fd1)"
      ],
      "metadata": {
        "colab": {
          "base_uri": "https://localhost:8080/"
        },
        "id": "SQ7BLpbDdOSg",
        "outputId": "9976887c-d89d-48d6-f3df-55f3478f86b9"
      },
      "execution_count": 31,
      "outputs": [
        {
          "output_type": "stream",
          "name": "stdout",
          "text": [
            "     Auth_Name  Article  Age\n",
            "SNo1       NaN      NaN  NaN\n",
            "SNo2       NaN      NaN  NaN\n",
            "SNo3       NaN      NaN  NaN\n",
            "SNo4       NaN      NaN  NaN\n"
          ]
        }
      ]
    },
    {
      "cell_type": "code",
      "source": [
        "fd2 = pd.DataFrame(dict3, index=['SNo1', 'SNo2', 'SNo3', 'SNo4'])\n",
        "print(fd2)"
      ],
      "metadata": {
        "colab": {
          "base_uri": "https://localhost:8080/"
        },
        "id": "6ViyWso2dVZk",
        "outputId": "ae3128ca-e42b-47b9-bb03-24a886e974c3"
      },
      "execution_count": 32,
      "outputs": [
        {
          "output_type": "stream",
          "name": "stdout",
          "text": [
            "     Auth_Name  Article  Age Label\n",
            "SNo1       NaN      NaN  NaN   NaN\n",
            "SNo2       NaN      NaN  NaN   NaN\n",
            "SNo3       NaN      NaN  NaN   NaN\n",
            "SNo4       NaN      NaN  NaN   NaN\n"
          ]
        }
      ]
    },
    {
      "cell_type": "markdown",
      "source": [
        "Here, we can rectify this problem by providing the same index values to every Series element. "
      ],
      "metadata": {
        "id": "m46_NrZzdfb-"
      }
    },
    {
      "cell_type": "code",
      "source": [
        "dict1 = {'Auth_Name': pd.Series(['Jitender',\n",
        "              'Purnima', 'Arpit', 'Jyoti'],\n",
        "          index=['SNo1', 'SNo2', 'SNo3', 'SNo4']),\n",
        "         'Author_Book_No': pd.Series([210, 211, 114, 178],\n",
        "                   index=['SNo1', 'SNo2', 'SNo3', 'SNo4']),\n",
        "         'Age': pd.Series([21, 21, 24, 23],\n",
        "                index=['SNo1', 'SNo2', 'SNo3', 'SNo4'])}"
      ],
      "metadata": {
        "id": "DvCbqExadp9d"
      },
      "execution_count": 37,
      "outputs": []
    },
    {
      "cell_type": "code",
      "source": [
        "df = pd.DataFrame(dict1, index=['SNo1', 'SNo2', 'SNo3', 'SNo4'])\n",
        "print(df)"
      ],
      "metadata": {
        "colab": {
          "base_uri": "https://localhost:8080/"
        },
        "id": "ZDkIfzXbdhDn",
        "outputId": "4e552fbe-c298-4507-e286-d24319f57ebd"
      },
      "execution_count": 38,
      "outputs": [
        {
          "output_type": "stream",
          "name": "stdout",
          "text": [
            "     Auth_Name  Author_Book_No  Age\n",
            "SNo1  Jitender             210   21\n",
            "SNo2   Purnima             211   21\n",
            "SNo3     Arpit             114   24\n",
            "SNo4     Jyoti             178   23\n"
          ]
        }
      ]
    },
    {
      "cell_type": "markdown",
      "source": [
        "**Small Exercise**"
      ],
      "metadata": {
        "id": "F00ODflae8RI"
      }
    },
    {
      "cell_type": "code",
      "source": [
        "s=pd.Series([8, 'data', 5.36, -23455788675342648, 'structures'])\n",
        "print(s)"
      ],
      "metadata": {
        "colab": {
          "base_uri": "https://localhost:8080/"
        },
        "id": "BuwrIO2Fe7sT",
        "outputId": "4e30b935-e998-427b-83fc-fa88555884ad"
      },
      "execution_count": 40,
      "outputs": [
        {
          "output_type": "stream",
          "name": "stdout",
          "text": [
            "0                     8\n",
            "1                  data\n",
            "2                  5.36\n",
            "3    -23455788675342648\n",
            "4            structures\n",
            "dtype: object\n"
          ]
        }
      ]
    },
    {
      "cell_type": "code",
      "source": [
        "s=pd.Series([8, 'data', 5.36, -23455788675342648, 'structures'], index=['A', 'B', 'C', 'D', 'E'])\n",
        "print(s)"
      ],
      "metadata": {
        "colab": {
          "base_uri": "https://localhost:8080/"
        },
        "id": "ZW0EMlY2fG9A",
        "outputId": "e6d67e0d-5049-4085-cb5d-060fc36e5b5b"
      },
      "execution_count": 41,
      "outputs": [
        {
          "output_type": "stream",
          "name": "stdout",
          "text": [
            "A                     8\n",
            "B                  data\n",
            "C                  5.36\n",
            "D    -23455788675342648\n",
            "E            structures\n",
            "dtype: object\n"
          ]
        }
      ]
    },
    {
      "cell_type": "code",
      "source": [
        " d={'01' : 'Jan', '02':'Feb','03':'Mar','04':'Apr'}\n",
        " print(d)"
      ],
      "metadata": {
        "colab": {
          "base_uri": "https://localhost:8080/"
        },
        "id": "Chs_NzzefSZm",
        "outputId": "eb526cc4-775a-4e28-bb3f-820ceb6fbe86"
      },
      "execution_count": 43,
      "outputs": [
        {
          "output_type": "stream",
          "name": "stdout",
          "text": [
            "{'01': 'Jan', '02': 'Feb', '03': 'Mar', '04': 'Apr'}\n"
          ]
        }
      ]
    },
    {
      "cell_type": "code",
      "source": [
        " months=pd.Series(d)\n",
        " print(months) "
      ],
      "metadata": {
        "colab": {
          "base_uri": "https://localhost:8080/"
        },
        "id": "zN8uQcg4fZIb",
        "outputId": "80afc9c1-d8df-44ec-dc36-f93b1494e10d"
      },
      "execution_count": 44,
      "outputs": [
        {
          "output_type": "stream",
          "name": "stdout",
          "text": [
            "01    Jan\n",
            "02    Feb\n",
            "03    Mar\n",
            "04    Apr\n",
            "dtype: object\n"
          ]
        }
      ]
    },
    {
      "cell_type": "code",
      "source": [
        "print(months['04'] )"
      ],
      "metadata": {
        "colab": {
          "base_uri": "https://localhost:8080/"
        },
        "id": "YuUp_UZgfecz",
        "outputId": "b6ba06c0-c6ff-4ce4-af43-aa573e39965d"
      },
      "execution_count": 45,
      "outputs": [
        {
          "output_type": "stream",
          "name": "stdout",
          "text": [
            "Apr\n"
          ]
        }
      ]
    },
    {
      "cell_type": "code",
      "source": [
        "print( months[months=='Jan'])"
      ],
      "metadata": {
        "colab": {
          "base_uri": "https://localhost:8080/"
        },
        "id": "rcSMepCFfh97",
        "outputId": "4f18f254-6ae6-4e1f-e169-1c4687d9e4fb"
      },
      "execution_count": 46,
      "outputs": [
        {
          "output_type": "stream",
          "name": "stdout",
          "text": [
            "01    Jan\n",
            "dtype: object\n"
          ]
        }
      ]
    }
  ]
}