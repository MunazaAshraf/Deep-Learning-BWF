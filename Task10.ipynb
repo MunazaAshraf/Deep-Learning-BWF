{
  "nbformat": 4,
  "nbformat_minor": 0,
  "metadata": {
    "colab": {
      "provenance": [],
      "authorship_tag": "ABX9TyMKnLMM7qnwk2tQH3WGCOif",
      "include_colab_link": true
    },
    "kernelspec": {
      "name": "python3",
      "display_name": "Python 3"
    },
    "language_info": {
      "name": "python"
    }
  },
  "cells": [
    {
      "cell_type": "markdown",
      "metadata": {
        "id": "view-in-github",
        "colab_type": "text"
      },
      "source": [
        "<a href=\"https://colab.research.google.com/github/MunazaAshraf/Deep-Learning-BWF/blob/main/Task10.ipynb\" target=\"_parent\"><img src=\"https://colab.research.google.com/assets/colab-badge.svg\" alt=\"Open In Colab\"/></a>"
      ]
    },
    {
      "cell_type": "code",
      "source": [
        "import numpy as np"
      ],
      "metadata": {
        "id": "X8Qipeh4flti"
      },
      "execution_count": null,
      "outputs": []
    },
    {
      "cell_type": "markdown",
      "source": [
        "Create a NumPy ndarray Object"
      ],
      "metadata": {
        "id": "bS-z-LWOf62E"
      }
    },
    {
      "cell_type": "code",
      "source": [
        "v= np.array([1, 2, 3, 4, 5])\n",
        "print(v)\n",
        "print(type(v))"
      ],
      "metadata": {
        "colab": {
          "base_uri": "https://localhost:8080/"
        },
        "id": "AHXOR53pe16b",
        "outputId": "f3608227-17e3-4b4a-e2ff-224d167d5f30"
      },
      "execution_count": null,
      "outputs": [
        {
          "output_type": "stream",
          "name": "stdout",
          "text": [
            "[1 2 3 4 5]\n",
            "<class 'numpy.ndarray'>\n"
          ]
        }
      ]
    },
    {
      "cell_type": "markdown",
      "source": [
        "To create an ndarray, we can pass a list, tuple or any array-like object into the array() method, and it will be converted into an ndarray:"
      ],
      "metadata": {
        "id": "7tziwT2vgEEp"
      }
    },
    {
      "cell_type": "code",
      "source": [
        "arr = np.array((1, 2, 3, 4, 5))\n",
        "print(arr)"
      ],
      "metadata": {
        "colab": {
          "base_uri": "https://localhost:8080/"
        },
        "id": "O_92H8NSe57Z",
        "outputId": "5b5d2b2c-7455-4b4b-d80e-67d675ab8cc6"
      },
      "execution_count": null,
      "outputs": [
        {
          "output_type": "stream",
          "name": "stdout",
          "text": [
            "[1 2 3 4 5]\n"
          ]
        }
      ]
    },
    {
      "cell_type": "markdown",
      "source": [
        "Dimensions in Arrays"
      ],
      "metadata": {
        "id": "CObAAipdfsi2"
      }
    },
    {
      "cell_type": "code",
      "source": [
        "# 0-D Arrays\n",
        "arr = np.array(42)\n",
        "print(arr)"
      ],
      "metadata": {
        "colab": {
          "base_uri": "https://localhost:8080/"
        },
        "id": "xJpNe4pZe_yc",
        "outputId": "ce080fe0-5e63-4229-dcfd-6304a84b3421"
      },
      "execution_count": null,
      "outputs": [
        {
          "output_type": "stream",
          "name": "stdout",
          "text": [
            "42\n"
          ]
        }
      ]
    },
    {
      "cell_type": "code",
      "source": [
        "# 1-D Arrays\n",
        "arr = np.array([1, 2, 3, 4, 5])\n",
        "print(arr)"
      ],
      "metadata": {
        "colab": {
          "base_uri": "https://localhost:8080/"
        },
        "id": "CvIi56VxgMZa",
        "outputId": "b32eb3f7-28cf-49ef-b46a-6eb55044ab9d"
      },
      "execution_count": null,
      "outputs": [
        {
          "output_type": "stream",
          "name": "stdout",
          "text": [
            "[1 2 3 4 5]\n"
          ]
        }
      ]
    },
    {
      "cell_type": "code",
      "source": [
        "# 2-D Arrays\n",
        "arr = np.array([[1, 2, 3], [4, 5, 6]])\n",
        "print(arr)"
      ],
      "metadata": {
        "colab": {
          "base_uri": "https://localhost:8080/"
        },
        "id": "nMcvoeKIgUaZ",
        "outputId": "2bca688c-2a04-4186-988b-9ddae45c6187"
      },
      "execution_count": null,
      "outputs": [
        {
          "output_type": "stream",
          "name": "stdout",
          "text": [
            "[[1 2 3]\n",
            " [4 5 6]]\n"
          ]
        }
      ]
    },
    {
      "cell_type": "code",
      "source": [
        "# 3-D Arrays\n",
        "arr = np.array([[[1, 2, 3], [4, 5, 6]], [[1, 2, 3], [4, 5, 6]]])\n",
        "print(arr)"
      ],
      "metadata": {
        "colab": {
          "base_uri": "https://localhost:8080/"
        },
        "id": "PNFdOHCagaFX",
        "outputId": "b4d25dc3-08c2-44a1-ec75-aca3cf46e5d7"
      },
      "execution_count": null,
      "outputs": [
        {
          "output_type": "stream",
          "name": "stdout",
          "text": [
            "[[[1 2 3]\n",
            "  [4 5 6]]\n",
            "\n",
            " [[1 2 3]\n",
            "  [4 5 6]]]\n"
          ]
        }
      ]
    },
    {
      "cell_type": "markdown",
      "source": [
        "Check how many dimensions the arrays have"
      ],
      "metadata": {
        "id": "XPRgKCtWgqQW"
      }
    },
    {
      "cell_type": "code",
      "source": [
        "a = np.array(42)\n",
        "b = np.array([1, 2, 3, 4, 5])\n",
        "c = np.array([[1, 2, 3], [4, 5, 6]])\n",
        "d = np.array([[[1, 2, 3], [4, 5, 6]], [[1, 2, 3], [4, 5, 6]]])\n",
        "\n",
        "print(a.ndim)\n",
        "print(b.ndim)\n",
        "print(c.ndim)\n",
        "print(d.ndim)"
      ],
      "metadata": {
        "colab": {
          "base_uri": "https://localhost:8080/"
        },
        "id": "nzOJLTkJghDz",
        "outputId": "e56571a1-aa7a-4569-94b8-d495f69402cb"
      },
      "execution_count": null,
      "outputs": [
        {
          "output_type": "stream",
          "name": "stdout",
          "text": [
            "0\n",
            "1\n",
            "2\n",
            "3\n"
          ]
        }
      ]
    },
    {
      "cell_type": "markdown",
      "source": [
        "Create an array with 5 dimensions and verify that it has 5 dimensions"
      ],
      "metadata": {
        "id": "mqNFBzCqgo6B"
      }
    },
    {
      "cell_type": "code",
      "source": [
        "arr = np.array([1, 2, 3, 4], ndmin=5)\n",
        "print(arr)\n",
        "print('number of dimensions :', arr.ndim)"
      ],
      "metadata": {
        "colab": {
          "base_uri": "https://localhost:8080/"
        },
        "id": "pinneHGygwu-",
        "outputId": "cdea9ca4-d439-4d0d-cd57-811fcd0e6d00"
      },
      "execution_count": null,
      "outputs": [
        {
          "output_type": "stream",
          "name": "stdout",
          "text": [
            "[[[[[1 2 3 4]]]]]\n",
            "number of dimensions : 5\n"
          ]
        }
      ]
    },
    {
      "cell_type": "code",
      "source": [
        "a = np.array([[1, 2, 3, 4], [5, 6, 7, 8], [9, 10, 11, 12]])\n",
        "print(a[0])"
      ],
      "metadata": {
        "colab": {
          "base_uri": "https://localhost:8080/"
        },
        "id": "ZPqzjqRdg1VC",
        "outputId": "0eb23030-c3a9-4c0e-d1aa-19e45df64349"
      },
      "execution_count": null,
      "outputs": [
        {
          "output_type": "stream",
          "name": "stdout",
          "text": [
            "[1 2 3 4]\n"
          ]
        }
      ]
    },
    {
      "cell_type": "code",
      "source": [
        "a = np.array([1, 2, 3, 4])\n",
        "print(a[0])"
      ],
      "metadata": {
        "colab": {
          "base_uri": "https://localhost:8080/"
        },
        "id": "AbFz6p2YhNgs",
        "outputId": "e3efa821-7d1b-4c85-c852-3b9dba7b0d4c"
      },
      "execution_count": null,
      "outputs": [
        {
          "output_type": "stream",
          "name": "stdout",
          "text": [
            "1\n"
          ]
        }
      ]
    },
    {
      "cell_type": "code",
      "source": [
        "a = np.zeros(2)\n",
        "print(a)"
      ],
      "metadata": {
        "colab": {
          "base_uri": "https://localhost:8080/"
        },
        "id": "MjB5lXxAhT_l",
        "outputId": "0fb6ad1e-51bf-4394-b473-a1daa0466eef"
      },
      "execution_count": null,
      "outputs": [
        {
          "output_type": "stream",
          "name": "stdout",
          "text": [
            "[0. 0.]\n"
          ]
        }
      ]
    },
    {
      "cell_type": "code",
      "source": [
        "a = np.zeros(7)\n",
        "print(a)"
      ],
      "metadata": {
        "colab": {
          "base_uri": "https://localhost:8080/"
        },
        "id": "cBTuXNIfhc3h",
        "outputId": "2e63baf8-41fc-46a6-cfb6-e73af0033518"
      },
      "execution_count": null,
      "outputs": [
        {
          "output_type": "stream",
          "name": "stdout",
          "text": [
            "[0. 0. 0. 0. 0. 0. 0.]\n"
          ]
        }
      ]
    },
    {
      "cell_type": "code",
      "source": [
        "a = np.ones(4)\n",
        "print(a)"
      ],
      "metadata": {
        "colab": {
          "base_uri": "https://localhost:8080/"
        },
        "id": "TV6XYSs7hfqJ",
        "outputId": "19c81541-8435-46c0-b3d7-70f8f1efabf5"
      },
      "execution_count": null,
      "outputs": [
        {
          "output_type": "stream",
          "name": "stdout",
          "text": [
            "[1. 1. 1. 1.]\n"
          ]
        }
      ]
    },
    {
      "cell_type": "code",
      "source": [
        "a = np.empty(4)\n",
        "print(a)"
      ],
      "metadata": {
        "colab": {
          "base_uri": "https://localhost:8080/"
        },
        "id": "E10wPnMNhonc",
        "outputId": "66240872-88ba-4190-80f9-59ef29da1b65"
      },
      "execution_count": null,
      "outputs": [
        {
          "output_type": "stream",
          "name": "stdout",
          "text": [
            "[1. 1. 1. 1.]\n"
          ]
        }
      ]
    },
    {
      "cell_type": "code",
      "source": [
        "a = np.empty(2)\n",
        "print(a)"
      ],
      "metadata": {
        "colab": {
          "base_uri": "https://localhost:8080/"
        },
        "id": "ihopGApOh1T0",
        "outputId": "feed4b52-e5be-466c-e29d-7524ebc74937"
      },
      "execution_count": null,
      "outputs": [
        {
          "output_type": "stream",
          "name": "stdout",
          "text": [
            "[0. 0.]\n",
            "[0. 0.]\n"
          ]
        }
      ]
    },
    {
      "cell_type": "code",
      "source": [
        "a = np.linspace(0, 10, num=5)\n",
        "print(a)"
      ],
      "metadata": {
        "colab": {
          "base_uri": "https://localhost:8080/"
        },
        "id": "5Eah0ky8h5Yf",
        "outputId": "1680b8b5-ab52-43b6-e05b-81e76ae04efe"
      },
      "execution_count": null,
      "outputs": [
        {
          "output_type": "stream",
          "name": "stdout",
          "text": [
            "[ 0.   2.5  5.   7.5 10. ]\n"
          ]
        }
      ]
    },
    {
      "cell_type": "code",
      "source": [
        "a = np.ones(2, dtype=np.int64)\n",
        "print(a)"
      ],
      "metadata": {
        "colab": {
          "base_uri": "https://localhost:8080/"
        },
        "id": "pYvZYOj8iB8Y",
        "outputId": "b20e5981-9e86-4a2a-a0d9-07f0ec0a3389"
      },
      "execution_count": null,
      "outputs": [
        {
          "output_type": "stream",
          "name": "stdout",
          "text": [
            "[1 1]\n"
          ]
        }
      ]
    },
    {
      "cell_type": "code",
      "source": [
        "arr = np.array([2, 1, 5, 3, 7, 4, 6, 8])\n",
        "np.sort(arr)"
      ],
      "metadata": {
        "colab": {
          "base_uri": "https://localhost:8080/"
        },
        "id": "jK8ayB5fiRva",
        "outputId": "803cf7e6-8705-4bfd-9ed9-3ac610b35d7a"
      },
      "execution_count": null,
      "outputs": [
        {
          "output_type": "execute_result",
          "data": {
            "text/plain": [
              "array([1, 2, 3, 4, 5, 6, 7, 8])"
            ]
          },
          "metadata": {},
          "execution_count": 29
        }
      ]
    },
    {
      "cell_type": "code",
      "source": [
        "np.argsort(arr)"
      ],
      "metadata": {
        "colab": {
          "base_uri": "https://localhost:8080/"
        },
        "id": "gWYWJxNhiape",
        "outputId": "d1ee9450-a7fa-43b9-f5db-a9fa58622e23"
      },
      "execution_count": null,
      "outputs": [
        {
          "output_type": "execute_result",
          "data": {
            "text/plain": [
              "array([1, 0, 3, 5, 2, 6, 4, 7])"
            ]
          },
          "metadata": {},
          "execution_count": 30
        }
      ]
    },
    {
      "cell_type": "code",
      "source": [
        "np.lexsort(arr)"
      ],
      "metadata": {
        "colab": {
          "base_uri": "https://localhost:8080/"
        },
        "id": "Mu15_TYBiiYB",
        "outputId": "7f28fbad-bdee-4ee4-a524-c4f60e56fc83"
      },
      "execution_count": null,
      "outputs": [
        {
          "output_type": "execute_result",
          "data": {
            "text/plain": [
              "0"
            ]
          },
          "metadata": {},
          "execution_count": 31
        }
      ]
    },
    {
      "cell_type": "code",
      "source": [
        "a = np.array([1, 2, 3, 4])\n",
        "b = np.array([5, 6, 7, 8])"
      ],
      "metadata": {
        "id": "X-tut1jXiqn9"
      },
      "execution_count": null,
      "outputs": []
    },
    {
      "cell_type": "code",
      "source": [
        "np.concatenate((a, b))"
      ],
      "metadata": {
        "colab": {
          "base_uri": "https://localhost:8080/"
        },
        "id": "M238hOqaiybu",
        "outputId": "c63ad8ff-4007-4810-b27f-f4b5a9646830"
      },
      "execution_count": null,
      "outputs": [
        {
          "output_type": "execute_result",
          "data": {
            "text/plain": [
              "array([1, 2, 3, 4, 5, 6, 7, 8])"
            ]
          },
          "metadata": {},
          "execution_count": 36
        }
      ]
    },
    {
      "cell_type": "code",
      "source": [
        "x = np.array([[1, 2], [3, 4]])\n",
        "y = np.array([[5, 6]])"
      ],
      "metadata": {
        "id": "Z9awaHjdjERj"
      },
      "execution_count": null,
      "outputs": []
    },
    {
      "cell_type": "code",
      "source": [
        "np.concatenate((x, y), axis=0)"
      ],
      "metadata": {
        "colab": {
          "base_uri": "https://localhost:8080/"
        },
        "id": "QqJ4gebGjKoX",
        "outputId": "7f95c80f-8a6a-4135-9999-140d6a2d5603"
      },
      "execution_count": null,
      "outputs": [
        {
          "output_type": "execute_result",
          "data": {
            "text/plain": [
              "array([[1, 2],\n",
              "       [3, 4],\n",
              "       [5, 6]])"
            ]
          },
          "metadata": {},
          "execution_count": 38
        }
      ]
    },
    {
      "cell_type": "code",
      "source": [
        "array_example = np.array([[[0, 1, 2, 3],\n",
        "                           [4, 5, 6, 7]],\n",
        "\n",
        "                          [[0, 1, 2, 3],\n",
        "                           [4, 5, 6, 7]],\n",
        "\n",
        "                          [[0 ,1 ,2, 3],\n",
        "                           [4, 5, 6, 7]]])"
      ],
      "metadata": {
        "id": "Vthiy3aojQB5"
      },
      "execution_count": null,
      "outputs": []
    },
    {
      "cell_type": "code",
      "source": [
        "array_example.ndim"
      ],
      "metadata": {
        "colab": {
          "base_uri": "https://localhost:8080/"
        },
        "id": "s6e3PADrjRa3",
        "outputId": "8b534b36-7600-479b-d7d6-ade9064b1cbc"
      },
      "execution_count": null,
      "outputs": [
        {
          "output_type": "execute_result",
          "data": {
            "text/plain": [
              "3"
            ]
          },
          "metadata": {},
          "execution_count": 40
        }
      ]
    },
    {
      "cell_type": "code",
      "source": [
        "array_example.size"
      ],
      "metadata": {
        "colab": {
          "base_uri": "https://localhost:8080/"
        },
        "id": "kL0kTUuGjUjx",
        "outputId": "57645054-bf00-4077-ca72-60937ae94896"
      },
      "execution_count": null,
      "outputs": [
        {
          "output_type": "execute_result",
          "data": {
            "text/plain": [
              "24"
            ]
          },
          "metadata": {},
          "execution_count": 41
        }
      ]
    },
    {
      "cell_type": "code",
      "source": [
        "array_example.shape"
      ],
      "metadata": {
        "colab": {
          "base_uri": "https://localhost:8080/"
        },
        "id": "uWB1fQfEjYE_",
        "outputId": "3866b91e-cc30-4421-eb9d-79d312cdd26d"
      },
      "execution_count": null,
      "outputs": [
        {
          "output_type": "execute_result",
          "data": {
            "text/plain": [
              "(3, 2, 4)"
            ]
          },
          "metadata": {},
          "execution_count": 42
        }
      ]
    },
    {
      "cell_type": "code",
      "source": [
        "a = np.arange(6)\n",
        "print(a)"
      ],
      "metadata": {
        "colab": {
          "base_uri": "https://localhost:8080/"
        },
        "id": "wmGKh0JtjZy4",
        "outputId": "0d173c19-b7a0-4553-b467-f2f5a1b0c553"
      },
      "execution_count": null,
      "outputs": [
        {
          "output_type": "stream",
          "name": "stdout",
          "text": [
            "[0 1 2 3 4 5]\n"
          ]
        }
      ]
    },
    {
      "cell_type": "code",
      "source": [
        "b = a.reshape(3, 2)\n",
        "print(b)"
      ],
      "metadata": {
        "colab": {
          "base_uri": "https://localhost:8080/"
        },
        "id": "dOANGAI-jdwG",
        "outputId": "a03dbce1-dd4f-4cc6-d95d-1833a1ea46b5"
      },
      "execution_count": null,
      "outputs": [
        {
          "output_type": "stream",
          "name": "stdout",
          "text": [
            "[[0 1]\n",
            " [2 3]\n",
            " [4 5]]\n"
          ]
        }
      ]
    },
    {
      "cell_type": "code",
      "source": [
        "np.reshape(a, newshape=(1, 6), order='C')"
      ],
      "metadata": {
        "colab": {
          "base_uri": "https://localhost:8080/"
        },
        "id": "53Cugj4djo2l",
        "outputId": "3990921a-3f3a-4983-d725-853743caf90e"
      },
      "execution_count": null,
      "outputs": [
        {
          "output_type": "execute_result",
          "data": {
            "text/plain": [
              "array([[0, 1, 2, 3, 4, 5]])"
            ]
          },
          "metadata": {},
          "execution_count": 45
        }
      ]
    },
    {
      "cell_type": "code",
      "source": [
        "x = np.arange(10)\n",
        "print(x)"
      ],
      "metadata": {
        "id": "06mF_34gjqDC"
      },
      "execution_count": null,
      "outputs": []
    },
    {
      "cell_type": "markdown",
      "source": [
        "One-dimensional subarrays"
      ],
      "metadata": {
        "id": "IgJcUdWus_Mo"
      }
    },
    {
      "cell_type": "code",
      "source": [
        "print(x[:5])"
      ],
      "metadata": {
        "colab": {
          "base_uri": "https://localhost:8080/"
        },
        "id": "NcuulJL2tFvG",
        "outputId": "a6ae9da2-e241-41c7-f71e-50a9b1d7f2c9"
      },
      "execution_count": 49,
      "outputs": [
        {
          "output_type": "stream",
          "name": "stdout",
          "text": [
            "[0 1 2 3 4]\n"
          ]
        }
      ]
    },
    {
      "cell_type": "code",
      "source": [
        "print(x[5:])"
      ],
      "metadata": {
        "colab": {
          "base_uri": "https://localhost:8080/"
        },
        "id": "Cd6HCzI-tKE9",
        "outputId": "c08e82e2-d8aa-4c0e-db08-19404967e4e3"
      },
      "execution_count": 50,
      "outputs": [
        {
          "output_type": "stream",
          "name": "stdout",
          "text": [
            "[5 6 7 8 9]\n"
          ]
        }
      ]
    },
    {
      "cell_type": "code",
      "source": [
        "print(x[4:7])"
      ],
      "metadata": {
        "colab": {
          "base_uri": "https://localhost:8080/"
        },
        "id": "L9eN6mahtQWS",
        "outputId": "57add34e-bcf2-4e5b-cca7-205680bf7ac8"
      },
      "execution_count": 51,
      "outputs": [
        {
          "output_type": "stream",
          "name": "stdout",
          "text": [
            "[4 5 6]\n"
          ]
        }
      ]
    },
    {
      "cell_type": "code",
      "source": [
        "print(x[::2])"
      ],
      "metadata": {
        "colab": {
          "base_uri": "https://localhost:8080/"
        },
        "id": "5F_6fB8wtTqr",
        "outputId": "19f8605a-b7d1-48a2-887d-aef55983acff"
      },
      "execution_count": 52,
      "outputs": [
        {
          "output_type": "stream",
          "name": "stdout",
          "text": [
            "[0 2 4 6 8]\n"
          ]
        }
      ]
    },
    {
      "cell_type": "code",
      "source": [
        "print(x[1::2])"
      ],
      "metadata": {
        "colab": {
          "base_uri": "https://localhost:8080/"
        },
        "id": "EXBj5GObtV2S",
        "outputId": "44fd1586-fb0c-4040-c942-fcf51edca633"
      },
      "execution_count": 53,
      "outputs": [
        {
          "output_type": "stream",
          "name": "stdout",
          "text": [
            "[1 3 5 7 9]\n"
          ]
        }
      ]
    },
    {
      "cell_type": "markdown",
      "source": [
        "Multi-dimensional subarrays"
      ],
      "metadata": {
        "id": "2L52QZzxtjMk"
      }
    },
    {
      "cell_type": "code",
      "source": [
        "x2 = np.array([[12,  5,  2,  4],\n",
        "       [ 7,  6,  8,  8],\n",
        "       [ 1,  6,  7,  7]])"
      ],
      "metadata": {
        "id": "8D3-XQoYtnXD"
      },
      "execution_count": 54,
      "outputs": []
    },
    {
      "cell_type": "code",
      "source": [
        "print(x2[:2, :3])"
      ],
      "metadata": {
        "colab": {
          "base_uri": "https://localhost:8080/"
        },
        "id": "BIAXm2cot3Ho",
        "outputId": "7d780e62-5922-4986-99ce-98c62a9bdaf6"
      },
      "execution_count": 55,
      "outputs": [
        {
          "output_type": "stream",
          "name": "stdout",
          "text": [
            "[[12  5  2]\n",
            " [ 7  6  8]]\n"
          ]
        }
      ]
    },
    {
      "cell_type": "code",
      "source": [
        "print(x2[:3, ::2] )"
      ],
      "metadata": {
        "colab": {
          "base_uri": "https://localhost:8080/"
        },
        "id": "V0uRFLqIt8nd",
        "outputId": "3fcb5472-a7a2-4f37-a87e-25bfad1648a3"
      },
      "execution_count": 56,
      "outputs": [
        {
          "output_type": "stream",
          "name": "stdout",
          "text": [
            "[[12  2]\n",
            " [ 7  8]\n",
            " [ 1  7]]\n"
          ]
        }
      ]
    },
    {
      "cell_type": "code",
      "source": [
        "x = np.array([[[1],[2]],[[3],[4]]])\n",
        "print(x.shape)"
      ],
      "metadata": {
        "colab": {
          "base_uri": "https://localhost:8080/"
        },
        "id": "GgdhIBU2uWZj",
        "outputId": "b29acdf1-de5e-49b6-c2c5-b2ff6101cd4c"
      },
      "execution_count": 57,
      "outputs": [
        {
          "output_type": "stream",
          "name": "stdout",
          "text": [
            "(2, 2, 1)\n"
          ]
        }
      ]
    },
    {
      "cell_type": "code",
      "source": [
        "a = np.random.randn(2,3)\n",
        "b = np.random.randn(2,1)\n",
        "c = a + b\n",
        "print(c.shape)"
      ],
      "metadata": {
        "colab": {
          "base_uri": "https://localhost:8080/"
        },
        "id": "L6SvIp_AunRp",
        "outputId": "d4211bfe-0dd3-432f-961c-6eecf1bbeff3"
      },
      "execution_count": 64,
      "outputs": [
        {
          "output_type": "stream",
          "name": "stdout",
          "text": [
            "(2, 3)\n"
          ]
        }
      ]
    },
    {
      "cell_type": "code",
      "source": [
        "print(c)"
      ],
      "metadata": {
        "colab": {
          "base_uri": "https://localhost:8080/"
        },
        "id": "16TDe7LHvK94",
        "outputId": "9a878dcd-5c0f-49dd-c971-3d5b88eb1ef2"
      },
      "execution_count": 65,
      "outputs": [
        {
          "output_type": "stream",
          "name": "stdout",
          "text": [
            "[[ 1.63452442  0.21855455  1.8239102 ]\n",
            " [-0.82812516 -0.02712539 -0.92348651]]\n"
          ]
        }
      ]
    },
    {
      "cell_type": "code",
      "source": [
        "a = np.random.randn(12288,150)\n",
        "b = np.random.randn(150,45)\n",
        "c = np.dot(a,b)"
      ],
      "metadata": {
        "id": "Rha93Bl_uyln"
      },
      "execution_count": 66,
      "outputs": []
    },
    {
      "cell_type": "code",
      "source": [
        "print(c)"
      ],
      "metadata": {
        "colab": {
          "base_uri": "https://localhost:8080/"
        },
        "id": "7Ok8L-VcvIY_",
        "outputId": "cfee40cf-abd5-4fe1-99a2-e3eb17aae9f5"
      },
      "execution_count": 67,
      "outputs": [
        {
          "output_type": "stream",
          "name": "stdout",
          "text": [
            "[[  4.62333647   6.16947085  21.71352397 ...  23.44208682   1.49001881\n",
            "   10.85955907]\n",
            " [-15.04572341 -11.20319983 -17.97977948 ...  12.36985248  12.53864282\n",
            "   -9.49599624]\n",
            " [ 12.53900366   7.49419602  10.41880974 ...   0.60953032  -5.7769477\n",
            "    0.81663635]\n",
            " ...\n",
            " [ 23.60276625 -23.34634171 -11.6036156  ...  20.08871567  21.44431101\n",
            "  -16.3404164 ]\n",
            " [ -8.19844656  27.23856774   5.4019486  ... -15.05531218   6.68384714\n",
            "   15.74493806]\n",
            " [  5.67190301 -12.07384422  22.99395014 ...   0.51800255   1.27598285\n",
            "   17.94570473]]\n"
          ]
        }
      ]
    },
    {
      "cell_type": "code",
      "source": [
        "print(c.shape)"
      ],
      "metadata": {
        "colab": {
          "base_uri": "https://localhost:8080/"
        },
        "id": "df5U8x6avRsh",
        "outputId": "a7b4083b-69eb-454a-a257-5b919b490343"
      },
      "execution_count": 68,
      "outputs": [
        {
          "output_type": "stream",
          "name": "stdout",
          "text": [
            "(12288, 45)\n"
          ]
        }
      ]
    },
    {
      "cell_type": "code",
      "source": [
        "a = np.random.randn(1,3)\n",
        "b = np.random.randn(3,3)\n",
        "c = a*b"
      ],
      "metadata": {
        "id": "yH08mvd-vU-u"
      },
      "execution_count": 69,
      "outputs": []
    },
    {
      "cell_type": "code",
      "source": [
        "print(c)\n",
        "print(c.shape)"
      ],
      "metadata": {
        "colab": {
          "base_uri": "https://localhost:8080/"
        },
        "id": "MwXgnrc4vnw4",
        "outputId": "695ebdfe-fe8d-493a-cf88-4d2884b19bc0"
      },
      "execution_count": 70,
      "outputs": [
        {
          "output_type": "stream",
          "name": "stdout",
          "text": [
            "[[ 0.09944102 -0.56283045  0.82017186]\n",
            " [-0.11159689  1.12425341  0.54786585]\n",
            " [ 0.063136    0.58298175  0.53112756]]\n",
            "(3, 3)\n"
          ]
        }
      ]
    },
    {
      "cell_type": "code",
      "source": [
        "a = np.array([[2,1],[1,3]])\n",
        "np.dot(a,a)"
      ],
      "metadata": {
        "colab": {
          "base_uri": "https://localhost:8080/"
        },
        "id": "rm5qz4MhvzYO",
        "outputId": "25ad03e0-e512-4cdc-a708-4079d5a0521f"
      },
      "execution_count": 72,
      "outputs": [
        {
          "output_type": "execute_result",
          "data": {
            "text/plain": [
              "array([[ 5,  5],\n",
              "       [ 5, 10]])"
            ]
          },
          "metadata": {},
          "execution_count": 72
        }
      ]
    },
    {
      "cell_type": "code",
      "source": [
        "a = np.array([[1,1],[1,-1]])\n",
        "b = np.array([[2],[3]])\n",
        "c = a+b"
      ],
      "metadata": {
        "id": "WhZ7qfuxv9V-"
      },
      "execution_count": 73,
      "outputs": []
    },
    {
      "cell_type": "code",
      "source": [
        "print(c)"
      ],
      "metadata": {
        "colab": {
          "base_uri": "https://localhost:8080/"
        },
        "id": "p6u5F-G5wMM8",
        "outputId": "4c69b069-5997-48e8-9911-0f6b37184184"
      },
      "execution_count": 74,
      "outputs": [
        {
          "output_type": "stream",
          "name": "stdout",
          "text": [
            "[[3 3]\n",
            " [4 2]]\n"
          ]
        }
      ]
    },
    {
      "cell_type": "code",
      "source": [
        "a = np.arange(9, dtype = np.float_).reshape(3,3) \n",
        "\n",
        "print(\"First Array: \")\n",
        "print(a)\n",
        "print(\"\\n\")"
      ],
      "metadata": {
        "colab": {
          "base_uri": "https://localhost:8080/"
        },
        "id": "2hJJkgwVwyoN",
        "outputId": "e26e3ac2-d51d-4f19-f45b-7336f0fb2c56"
      },
      "execution_count": 77,
      "outputs": [
        {
          "output_type": "stream",
          "name": "stdout",
          "text": [
            "First Array: \n",
            "[[0. 1. 2.]\n",
            " [3. 4. 5.]\n",
            " [6. 7. 8.]]\n",
            "\n",
            "\n"
          ]
        }
      ]
    },
    {
      "cell_type": "code",
      "source": [
        "print(\"Second array:\") \n",
        "b = np.array([10,10,10]) \n",
        "print(b) \n",
        "print(\"\\n\")  "
      ],
      "metadata": {
        "colab": {
          "base_uri": "https://localhost:8080/"
        },
        "id": "WShiMOoOxRGB",
        "outputId": "ed237537-16b4-426b-a6dc-d8d358a5625e"
      },
      "execution_count": 78,
      "outputs": [
        {
          "output_type": "stream",
          "name": "stdout",
          "text": [
            "Second array:\n",
            "[10 10 10]\n",
            "\n",
            "\n"
          ]
        }
      ]
    },
    {
      "cell_type": "code",
      "source": [
        "print(\"Add the two arrays:\")\n",
        "print( np.add(a,b)) \n",
        "print(\" \\n \")\n",
        "\n",
        "print(\"Subtract the two arrays:\")\n",
        "print( np.subtract(a,b) )\n",
        "print(\"\\n\")\n",
        "\n",
        "print(\"Multiply the two arrays:\") \n",
        "print( np.multiply(a,b) )\n",
        "print(\"\\n\") \n",
        "\n",
        "print(\"Divide the two arrays: \")\n",
        "print(np.divide(a,b))"
      ],
      "metadata": {
        "colab": {
          "base_uri": "https://localhost:8080/"
        },
        "id": "Xd_fJdhAxkqo",
        "outputId": "819c9dd0-172a-4c7f-8f8b-60bd2f4351ef"
      },
      "execution_count": 79,
      "outputs": [
        {
          "output_type": "stream",
          "name": "stdout",
          "text": [
            "Add the two arrays:\n",
            "[[10. 11. 12.]\n",
            " [13. 14. 15.]\n",
            " [16. 17. 18.]]\n",
            " \n",
            " \n",
            "Subtract the two arrays:\n",
            "[[-10.  -9.  -8.]\n",
            " [ -7.  -6.  -5.]\n",
            " [ -4.  -3.  -2.]]\n",
            "\n",
            "\n",
            "Multiply the two arrays:\n",
            "[[ 0. 10. 20.]\n",
            " [30. 40. 50.]\n",
            " [60. 70. 80.]]\n",
            "\n",
            "\n",
            "Divide the two arrays: \n",
            "[[0.  0.1 0.2]\n",
            " [0.3 0.4 0.5]\n",
            " [0.6 0.7 0.8]]\n"
          ]
        }
      ]
    }
  ]
}